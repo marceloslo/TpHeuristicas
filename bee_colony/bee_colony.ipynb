{
 "cells": [
  {
   "cell_type": "code",
   "execution_count": 37,
   "metadata": {},
   "outputs": [],
   "source": [
    "def readCosts(lines,n):\n",
    "    costs=[]\n",
    "    i=0\n",
    "    while(len(costs)<n):\n",
    "        for k in lines[i]:\n",
    "            costs.append(int(k))\n",
    "        i+=1\n",
    "    lines=lines[i:]\n",
    "    return costs,lines"
   ]
  },
  {
   "cell_type": "code",
   "execution_count": 52,
   "metadata": {},
   "outputs": [],
   "source": [
    "def coverRows(lines,m,n):\n",
    "    adjList=[]\n",
    "    j=0\n",
    "    for i in range(m):\n",
    "        adjList.append([])\n",
    "        size=lines[j][0]\n",
    "        while(len(adjList[i])<int(size)):\n",
    "            j+=1\n",
    "            for k in lines[j]:\n",
    "                adjList[i].append(int(k))\n",
    "        j+=1\n",
    "    return adjList"
   ]
  },
  {
   "cell_type": "code",
   "execution_count": 55,
   "metadata": {},
   "outputs": [],
   "source": [
    "def readData(filename):\n",
    "    f = open(filename,'r')\n",
    "    lines=f.readlines()\n",
    "    lines=[x.replace('\\n','').split() for x in lines]\n",
    "    m = int(lines[0][0])\n",
    "    n = int(lines[0][1])\n",
    "    lines=lines[1:]\n",
    "    costs,lines=readCosts(lines,n)\n",
    "    adjList=coverRows(lines,m,n)\n",
    "    return m,n,costs,adjList"
   ]
  },
  {
   "cell_type": "code",
   "execution_count": 57,
   "metadata": {},
   "outputs": [],
   "source": [
    "m,n,costs,adjList=readData(\"scp41.txt\")"
   ]
  },
  {
   "cell_type": "code",
   "execution_count": 59,
   "metadata": {},
   "outputs": [
    {
     "data": {
      "text/plain": [
       "200"
      ]
     },
     "execution_count": 59,
     "metadata": {},
     "output_type": "execute_result"
    }
   ],
   "source": [
    "len(adjList)"
   ]
  },
  {
   "cell_type": "code",
   "execution_count": null,
   "metadata": {},
   "outputs": [],
   "source": []
  }
 ],
 "metadata": {
  "kernelspec": {
   "display_name": "Python 3",
   "language": "python",
   "name": "python3"
  },
  "language_info": {
   "codemirror_mode": {
    "name": "ipython",
    "version": 3
   },
   "file_extension": ".py",
   "mimetype": "text/x-python",
   "name": "python",
   "nbconvert_exporter": "python",
   "pygments_lexer": "ipython3",
   "version": "3.7.6"
  }
 },
 "nbformat": 4,
 "nbformat_minor": 4
}
