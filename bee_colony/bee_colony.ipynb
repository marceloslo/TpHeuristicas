{
 "cells": [
  {
   "cell_type": "code",
   "execution_count": 1,
   "metadata": {},
   "outputs": [],
   "source": [
    "import numpy as np\n",
    "import heapq"
   ]
  },
  {
   "cell_type": "code",
   "execution_count": 2,
   "metadata": {},
   "outputs": [],
   "source": [
    "def readCosts(lines,n):\n",
    "    costs=[]\n",
    "    i=0\n",
    "    while(len(costs)<n):\n",
    "        for k in lines[i]:\n",
    "            costs.append(int(k))\n",
    "        i+=1\n",
    "    lines=lines[i:]\n",
    "    return costs,lines"
   ]
  },
  {
   "cell_type": "code",
   "execution_count": 3,
   "metadata": {},
   "outputs": [],
   "source": [
    "def coverRows(lines,m,n):\n",
    "    adjList=[]\n",
    "    j=0\n",
    "    for i in range(m):\n",
    "        adjList.append([])\n",
    "        size=lines[j][0]\n",
    "        while(len(adjList[i])<int(size)):\n",
    "            j+=1\n",
    "            for k in lines[j]:\n",
    "                adjList[i].append(int(k)-1)\n",
    "        j+=1\n",
    "    return adjList"
   ]
  },
  {
   "cell_type": "code",
   "execution_count": 4,
   "metadata": {},
   "outputs": [],
   "source": [
    "def sets(lines,m,n):\n",
    "    sets=[set() for x in range(n)]\n",
    "    i=0\n",
    "    vertex=1\n",
    "    while(i<len(lines)):\n",
    "        size=int(lines[i][0])\n",
    "        i+=1\n",
    "        counter=0\n",
    "        while(counter<size):\n",
    "            for j in lines[i]:\n",
    "                sets[int(j)-1].add(vertex)\n",
    "                counter+=1\n",
    "            i+=1\n",
    "        vertex+=1\n",
    "    return sets"
   ]
  },
  {
   "cell_type": "code",
   "execution_count": 5,
   "metadata": {},
   "outputs": [],
   "source": [
    "def adjacencyMatrix(m,n,adjList):\n",
    "    adjMatrix = np.zeros((m,n))\n",
    "    for i,column in enumerate(adjList):\n",
    "        adjMatrix[i,column]=1"
   ]
  },
  {
   "cell_type": "code",
   "execution_count": 6,
   "metadata": {},
   "outputs": [],
   "source": [
    "def readData(filename):\n",
    "    f = open(filename,'r')\n",
    "    lines=f.readlines()\n",
    "    lines=[x.replace('\\n','').split() for x in lines]\n",
    "    m = int(lines[0][0])\n",
    "    n = int(lines[0][1])\n",
    "    lines=lines[1:]\n",
    "    costs,lines=readCosts(lines,n)\n",
    "    adjList=coverRows(lines,m,n)\n",
    "    s=sets(lines,m,n)\n",
    "    return m,n,costs,adjList,s"
   ]
  },
  {
   "cell_type": "code",
   "execution_count": 7,
   "metadata": {},
   "outputs": [],
   "source": [
    "def insertionCost(s,solution,costs,i):\n",
    "    iCost=np.float64(costs[i])/len(s.difference(solution))\n",
    "    return iCost"
   ]
  },
  {
   "cell_type": "code",
   "execution_count": 8,
   "metadata": {},
   "outputs": [],
   "source": [
    "m,n,costs,adjList,s=readData(\"scp41.txt\")"
   ]
  }
 ],
 "metadata": {
  "kernelspec": {
   "display_name": "Python 3",
   "language": "python",
   "name": "python3"
  },
  "language_info": {
   "codemirror_mode": {
    "name": "ipython",
    "version": 3
   },
   "file_extension": ".py",
   "mimetype": "text/x-python",
   "name": "python",
   "nbconvert_exporter": "python",
   "pygments_lexer": "ipython3",
   "version": "3.7.6"
  }
 },
 "nbformat": 4,
 "nbformat_minor": 4
}
