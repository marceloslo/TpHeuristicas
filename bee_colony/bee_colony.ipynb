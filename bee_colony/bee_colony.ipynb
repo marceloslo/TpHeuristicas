{
 "cells": [
  {
   "cell_type": "code",
   "execution_count": 1,
   "metadata": {},
   "outputs": [],
   "source": [
    "import numpy as np\n",
    "import heapq"
   ]
  },
  {
   "cell_type": "code",
   "execution_count": 2,
   "metadata": {},
   "outputs": [],
   "source": [
    "def readCosts(lines,n):\n",
    "    costs=[]\n",
    "    i=0\n",
    "    while(len(costs)<n):\n",
    "        for k in lines[i]:\n",
    "            costs.append(int(k))\n",
    "        i+=1\n",
    "    lines=lines[i:]\n",
    "    return costs,lines"
   ]
  },
  {
   "cell_type": "code",
   "execution_count": 3,
   "metadata": {},
   "outputs": [],
   "source": [
    "def coverRows(lines,m,n):\n",
    "    adjList=[]\n",
    "    j=0\n",
    "    for i in range(m):\n",
    "        adjList.append([])\n",
    "        size=lines[j][0]\n",
    "        while(len(adjList[i])<int(size)):\n",
    "            j+=1\n",
    "            for k in lines[j]:\n",
    "                adjList[i].append(int(k)-1)\n",
    "        j+=1\n",
    "    return adjList"
   ]
  },
  {
   "cell_type": "code",
   "execution_count": 4,
   "metadata": {},
   "outputs": [],
   "source": [
    "def sets(lines,m,n):\n",
    "    sets=[set() for x in range(n)]\n",
    "    i=0\n",
    "    vertex=1\n",
    "    while(i<len(lines)):\n",
    "        size=int(lines[i][0])\n",
    "        i+=1\n",
    "        counter=0\n",
    "        while(counter<size):\n",
    "            for j in lines[i]:\n",
    "                sets[int(j)-1].add(vertex)\n",
    "                counter+=1\n",
    "            i+=1\n",
    "        vertex+=1\n",
    "    return sets"
   ]
  },
  {
   "cell_type": "code",
   "execution_count": 5,
   "metadata": {},
   "outputs": [],
   "source": [
    "def adjacencyMatrix(m,n,adjList):\n",
    "    adjMatrix = np.zeros((m,n))\n",
    "    for i,column in enumerate(adjList):\n",
    "        adjMatrix[i,column]=1"
   ]
  },
  {
   "cell_type": "code",
   "execution_count": 6,
   "metadata": {},
   "outputs": [],
   "source": [
    "def readData(filename):\n",
    "    f = open(filename,'r')\n",
    "    lines=f.readlines()\n",
    "    lines=[x.replace('\\n','').split() for x in lines]\n",
    "    m = int(lines[0][0])\n",
    "    n = int(lines[0][1])\n",
    "    lines=lines[1:]\n",
    "    costs,lines=readCosts(lines,n)\n",
    "    adjList=coverRows(lines,m,n)\n",
    "    s=sets(lines,m,n)\n",
    "    return m,n,costs,adjList,s"
   ]
  },
  {
   "cell_type": "code",
   "execution_count": 23,
   "metadata": {},
   "outputs": [],
   "source": [
    "def universe(m):\n",
    "    U=set(range(1,m+1))\n",
    "    return U"
   ]
  },
  {
   "cell_type": "code",
   "execution_count": 67,
   "metadata": {},
   "outputs": [],
   "source": [
    "def insertionCost(s,solution,cost):\n",
    "    iCost=np.float64(cost)/len(s.difference(solution))\n",
    "    return iCost"
   ]
  },
  {
   "cell_type": "code",
   "execution_count": 209,
   "metadata": {},
   "outputs": [],
   "source": [
    "def greedy(S,costs,U):\n",
    "    #sets disponíveis\n",
    "    available=list(range(len(S)))\n",
    "    \n",
    "    #cobertura atual\n",
    "    covered = set()\n",
    "    cover = []\n",
    "    \n",
    "    totalcost = 0 \n",
    "    \n",
    "    while(U):\n",
    "        #descubra melhor set\n",
    "        mincost=np.inf\n",
    "        for i,subset in enumerate(available):\n",
    "            cost=insertionCost(S[subset],covered,costs[subset])\n",
    "            if cost<mincost:\n",
    "                mincost=cost\n",
    "                argmin=i\n",
    "        #atualize cobertura\n",
    "        totalcost+=costs[available[argmin]]\n",
    "        covered = covered.union(S[available[argmin]])\n",
    "        cover.append(available[argmin])\n",
    "        \n",
    "        #remova set e elementos dos disponíveis\n",
    "        U = U.difference(S[available[argmin]])\n",
    "        del available[argmin]\n",
    "        \n",
    "    return totalcost,cover"
   ]
  },
  {
   "cell_type": "code",
   "execution_count": 135,
   "metadata": {},
   "outputs": [],
   "source": [
    "def randomChoice(array):\n",
    "    lim=len(array)\n",
    "    i=np.random.randint(lim)\n",
    "    return i"
   ]
  },
  {
   "cell_type": "code",
   "execution_count": 208,
   "metadata": {},
   "outputs": [],
   "source": [
    "def randomGreedy(S,costs,U,alpha):\n",
    "    #sets disponíveis\n",
    "    available=list(range(len(S)))\n",
    "    \n",
    "    #cobertura atual\n",
    "    covered = set()\n",
    "    cover = []\n",
    "    \n",
    "    totalcost = 0 \n",
    "    \n",
    "    while(U):\n",
    "        #armazene custos\n",
    "        possiblecosts=[]\n",
    "        for i,subset in enumerate(available):\n",
    "            currCost=insertionCost(S[subset],covered,costs[subset])\n",
    "            if not np.isinf(currCost):\n",
    "                possiblecosts.append((currCost,i))\n",
    "        \n",
    "        #ordene\n",
    "        possiblecosts=np.array(sorted(possiblecosts),dtype=float)\n",
    "        \n",
    "        #descubra quais custos são validos para seu grasp (todos se alpha=0 e apenas o menor de alpha=1)\n",
    "        mincost=possiblecosts[0,0]\n",
    "        maxcost=possiblecosts[len(possiblecosts)-1,0]\n",
    "        supportedCost=maxcost + alpha*(mincost-maxcost);\n",
    "        #escolha o custo\n",
    "        maxPosition = np.searchsorted(possiblecosts[:,0],supportedCost)+1\n",
    "        possiblecosts = possiblecosts[:maxPosition,:]\n",
    "        argmin=int(possiblecosts[randomChoice(possiblecosts),1])\n",
    "        \n",
    "        #atualize cobertura\n",
    "        totalcost+=costs[available[argmin]]\n",
    "        covered = covered.union(S[available[argmin]])\n",
    "        cover.append(available[argmin])\n",
    "        \n",
    "        #remova set e elementos dos disponíveis\n",
    "        U = U.difference(S[available[argmin]])\n",
    "        del available[argmin]\n",
    "        \n",
    "    return totalcost,cover"
   ]
  },
  {
   "cell_type": "code",
   "execution_count": 191,
   "metadata": {},
   "outputs": [],
   "source": [
    "m,n,costs,adjList,s=readData(\"scp41.txt\")"
   ]
  },
  {
   "cell_type": "code",
   "execution_count": 192,
   "metadata": {},
   "outputs": [],
   "source": [
    "U = universe(m)"
   ]
  },
  {
   "cell_type": "code",
   "execution_count": 210,
   "metadata": {},
   "outputs": [
    {
     "name": "stderr",
     "output_type": "stream",
     "text": [
      "C:\\Users\\msart\\anaconda3\\lib\\site-packages\\ipykernel_launcher.py:2: RuntimeWarning: divide by zero encountered in double_scalars\n",
      "  \n"
     ]
    }
   ],
   "source": [
    "cost,subsets=randomGreedy(s,costs,U,1)"
   ]
  }
 ],
 "metadata": {
  "kernelspec": {
   "display_name": "Python 3",
   "language": "python",
   "name": "python3"
  },
  "language_info": {
   "codemirror_mode": {
    "name": "ipython",
    "version": 3
   },
   "file_extension": ".py",
   "mimetype": "text/x-python",
   "name": "python",
   "nbconvert_exporter": "python",
   "pygments_lexer": "ipython3",
   "version": "3.7.6"
  }
 },
 "nbformat": 4,
 "nbformat_minor": 4
}
